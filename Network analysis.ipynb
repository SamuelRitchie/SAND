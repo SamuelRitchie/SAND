{
 "cells": [
  {
   "cell_type": "code",
   "execution_count": 1,
   "metadata": {},
   "outputs": [],
   "source": [
    "import pandas as pd\n",
    "import numpy as np\n",
    "import networkx as nx\n",
    "import matplotlib.pyplot as plt\n",
    "from collections import Counter"
   ]
  },
  {
   "cell_type": "code",
   "execution_count": 2,
   "metadata": {},
   "outputs": [],
   "source": [
    "df = pd.read_csv(\"data/triples.txt\", sep= \" \", header=None, names=['Artiste1', 'Lien', 'Artiste2','.'])"
   ]
  },
  {
   "cell_type": "code",
   "execution_count": 3,
   "metadata": {},
   "outputs": [],
   "source": [
    "metadata = pd.read_csv('data/metadata_dataframe.csv')"
   ]
  },
  {
   "cell_type": "code",
   "execution_count": 4,
   "metadata": {},
   "outputs": [],
   "source": [
    "corresp = metadata[[\"artist_url\", 'Name']].set_index('artist_url').to_dict()\n",
    "def url_to_artist(url):\n",
    "    return corresp['Name'][url]\n",
    "\n",
    "df.Artiste1 = df.Artiste1.apply(url_to_artist)\n",
    "df.Artiste2 = df.Artiste2.apply(url_to_artist)\n",
    "df = df[['Artiste1', 'Artiste2']]"
   ]
  },
  {
   "cell_type": "code",
   "execution_count": 5,
   "metadata": {},
   "outputs": [],
   "source": [
    "def is_northeast(city):\n",
    "    if \"connecticut\" in city or 'maine' in city or 'massachusetts' in city or 'newhampshire' in city \\\n",
    "    or 'rhodeisland' in city or 'vermont' in city or 'newjersey' in city or 'newyork' in city or 'pennsylvania' in city: \n",
    "        return True\n",
    "    \n",
    "def is_midwest(city):\n",
    "    if 'illinois'in city or 'indiana' in city or 'michigan' in city or 'ohio' in city or 'wisconsin' in city \\\n",
    "    or'iowa' in city or 'kansas' in city or 'minnesota' in city or 'missouri' in city or 'nebraska' in city \\\n",
    "    or 'northdakota' in city or 'southdakota' in city:\n",
    "        return True\n",
    "    \n",
    "def is_south(city):\n",
    "    if 'delaware' in city or 'florida' in city or 'georgia' in city or 'maryland' in city or 'northcarolina' in city \\\n",
    "    or 'southcarolina' in city or 'virginia' in city or 'columbia' in city or 'westvirginia' in city \\\n",
    "    or 'alabama' in city or 'kentucky' in city or 'mississippi' in city or 'tennessee' in city \\\n",
    "    or 'arkansas' in city or 'louisiana' in city or 'oklahoma' in city or 'texas' in city:\n",
    "        return True\n",
    "    \n",
    "def is_west(city):\n",
    "    if 'arizona' in city or 'colorado' in city or 'idaho' in city or 'montana' in city or 'nevada' in city \\\n",
    "    or' newmexico' in city or 'utah' in city or 'wyoming' in city or 'alaska' in city or 'california' in city \\\n",
    "    or 'hawaii' in city or 'oregon' in city or 'washington' in city:\n",
    "        return True\n",
    "    "
   ]
  },
  {
   "cell_type": "code",
   "execution_count": 6,
   "metadata": {},
   "outputs": [],
   "source": [
    "def clean_city(city, city2):\n",
    "    try:\n",
    "        city = city.lower().replace('_','')\n",
    "    except AttributeError:\n",
    "        city = ''\n",
    "    try:\n",
    "        city2 = city2.lower().replace('_','')\n",
    "    except AttributeError:\n",
    "        city2 = ''\n",
    "\n",
    "    if 'newyork' in city2:\n",
    "        return 'New-York-City'\n",
    "    elif 'chicago' in city2 or 'illinois' in city2 or 'indiana' in city2 or 'saintlouis' in city2 or 'michigan' in city2:\n",
    "        return 'Chicago'\n",
    "    elif 'orleans' in city2 or 'louisiana' in city2:\n",
    "        return 'New-Orleans'\n",
    "    elif 'newyork' in city or 'newyork' in city :\n",
    "        return 'New-York-City'\n",
    "    elif 'chicago' in city or 'illinois' in city or 'indiana' in city or 'saintlouis' in city or 'michigan' in city:\n",
    "        return 'Chicago'\n",
    "    elif 'orleans' in city2 or 'louisiana' in city2:\n",
    "        return 'New-Orleans'\n",
    "    \n",
    "    elif is_northeast(city2):\n",
    "        return 'NorthEast'\n",
    "    elif is_midwest(city2):\n",
    "        return 'MidWest'\n",
    "    elif is_south(city2):\n",
    "        return 'South'\n",
    "    elif is_west(city2):\n",
    "        return 'West'\n",
    "\n",
    "    elif is_northeast(city):\n",
    "        return 'NorthEast'\n",
    "    elif is_midwest(city):\n",
    "        return 'MidWest'\n",
    "    elif is_south(city):\n",
    "        return 'South'\n",
    "    elif is_west(city):\n",
    "        return 'West'"
   ]
  },
  {
   "cell_type": "code",
   "execution_count": 7,
   "metadata": {},
   "outputs": [],
   "source": [
    "metadata[\"Area\"] = metadata[['Birth Place','Death Place']].apply(lambda x: clean_city(*x), axis=1)"
   ]
  },
  {
   "cell_type": "code",
   "execution_count": 8,
   "metadata": {},
   "outputs": [],
   "source": [
    "from ast import literal_eval\n",
    "def fix_list(l):\n",
    "    try:\n",
    "        return literal_eval(l)\n",
    "    except ValueError:\n",
    "        return None\n",
    "metadata.Genre = metadata.Genre.apply(fix_list)\n",
    "metadata.Instruments = metadata.Instruments.apply(fix_list)"
   ]
  },
  {
   "cell_type": "code",
   "execution_count": 9,
   "metadata": {},
   "outputs": [],
   "source": [
    "#Get main style\n",
    "\n",
    "unic_genre = []\n",
    "for genres in metadata.Genre:\n",
    "    try:\n",
    "        for i in range(len(genres)):\n",
    "            unic_genre.append(genres[i])\n",
    "    except:\n",
    "        pass\n",
    "unic_genre = Counter(unic_genre)\n",
    "unic_genre = sorted(unic_genre.items(), key=lambda pair: pair[1], reverse=False)\n",
    "\n",
    "def unic_style(styles):\n",
    "    try:\n",
    "        genres = styles.copy()\n",
    "        if len(genres) == 1:\n",
    "            return genres[0]\n",
    "        else:\n",
    "            if 'Jazz' in genres:\n",
    "                genres.remove('Jazz')\n",
    "            for i in range(len(unic_genre)):\n",
    "                if unic_genre[i][0] in genres and len(genres)>1:\n",
    "                    genres.remove(unic_genre[i][0])\n",
    "            return genres[0]\n",
    "    except (ValueError, TypeError, AttributeError):\n",
    "        return None\n",
    "    \n",
    "metadata['Main_style'] = metadata.Genre.apply(unic_style)"
   ]
  },
  {
   "cell_type": "code",
   "execution_count": 10,
   "metadata": {},
   "outputs": [],
   "source": [
    "def clean_instrument(instrument):\n",
    "    temp = instrument.lower()\n",
    "    if 'sax' in temp:\n",
    "        return 'Saxophone'\n",
    "    if 'pian' in temp:\n",
    "        return 'Piano'\n",
    "    if 'trump' in temp:\n",
    "        return 'Trumpet'\n",
    "    if 'tromb' in temp:\n",
    "        return 'Trombone'\n",
    "    if 'drum' in temp or 'percu' in temp:\n",
    "        return 'Drums'\n",
    "    if temp == 'human_voice' or 'sing' in temp or 'vocals' in temp:\n",
    "        return 'Singer'\n",
    "    if 'violin' in temp:\n",
    "        return 'Violin'\n",
    "    if 'clarinet' in temp:\n",
    "        return 'Clarinet'\n",
    "    if 'guitar' in temp or 'fender' in temp or 'gibson' in temp:\n",
    "        return 'Guitar'\n",
    "    if 'bass' in temp:\n",
    "        return 'Double Bass'\n",
    "    elif 'bass' in temp:\n",
    "        return 'Bass'\n",
    "    else:\n",
    "        return temp"
   ]
  },
  {
   "cell_type": "code",
   "execution_count": 11,
   "metadata": {},
   "outputs": [],
   "source": [
    "# Get main instrument\n",
    "\n",
    "unic_instruments = []\n",
    "for inst in metadata.Instruments:\n",
    "    try:\n",
    "        for i in range(len(inst)):\n",
    "            unic_instruments.append(inst[i])\n",
    "    except:\n",
    "            pass\n",
    "unic_instruments = Counter(unic_instruments)\n",
    "unic_instruments = sorted(unic_instruments.items(), key=lambda pair: pair[1], reverse=False)\n",
    "\n",
    "def unic_style(inst):\n",
    "    try:\n",
    "        instr = inst.copy()\n",
    "        if len(instr) == 1:\n",
    "            temp = instr[0]\n",
    "        else:\n",
    "            if 'Jazz' in instr:\n",
    "                instr.remove('Jazz')\n",
    "            for i in range(len(unic_instruments)):\n",
    "                if unic_instruments[i][0] in instr and len(instr)>1:\n",
    "                    instr.remove(unic_instruments[i][0])\n",
    "            temp = instr[0]\n",
    "        return clean_instrument(temp)\n",
    "        \n",
    "    except (IndexError, ValueError, TypeError, AttributeError):\n",
    "        return None\n",
    "    \n",
    "metadata['Main_instrument'] = metadata.Instruments.apply(unic_style)"
   ]
  },
  {
   "cell_type": "code",
   "execution_count": 12,
   "metadata": {},
   "outputs": [],
   "source": [
    "top_instruments = pd.crosstab(metadata.Main_instrument, columns='count').sort_values(by='count', ascending=False).head(15)['count'].index"
   ]
  },
  {
   "cell_type": "code",
   "execution_count": 13,
   "metadata": {},
   "outputs": [],
   "source": [
    "def keep_top_instruments(i):\n",
    "    if i in top_instruments:\n",
    "        return i\n",
    "    else:\n",
    "        return 'Other'\n",
    "metadata.Main_instrument = metadata.Main_instrument.apply(keep_top_instruments)"
   ]
  },
  {
   "cell_type": "code",
   "execution_count": 14,
   "metadata": {},
   "outputs": [],
   "source": [
    "def birth_year_to_decade(year):\n",
    "    try:\n",
    "        return str(round(int(year), -1))+'s'\n",
    "    except ValueError:\n",
    "        return None\n",
    "metadata[\"Birth_decade\"] = metadata[\"Birth Year\"].apply(birth_year_to_decade)"
   ]
  },
  {
   "cell_type": "code",
   "execution_count": 15,
   "metadata": {},
   "outputs": [],
   "source": [
    "df.to_csv('data/clean_triples.csv')\n",
    "metadata[[\"Name\", \"Area\", \"Main_style\", \"Main_instrument\", \"Birth_decade\"]].to_csv(\"data/metadata_dataframe_clean.csv\")"
   ]
  },
  {
   "cell_type": "code",
   "execution_count": null,
   "metadata": {},
   "outputs": [],
   "source": [
    "adjacency_matrix = pd.crosstab(df.Artiste1, df.Artiste2)\n",
    "idx = adjacency_matrix.columns.union(adjacency_matrix.index)\n",
    "adjacency_matrix = adjacency_matrix.reindex(index = idx, columns=idx, fill_value=0).as_matrix()"
   ]
  },
  {
   "cell_type": "code",
   "execution_count": null,
   "metadata": {},
   "outputs": [],
   "source": [
    "(adjacency_matrix == 0).sum().sum()/np.prod(adjacency_matrix.shape)"
   ]
  },
  {
   "cell_type": "code",
   "execution_count": null,
   "metadata": {},
   "outputs": [],
   "source": [
    "adjacency_matrix.sum()"
   ]
  },
  {
   "cell_type": "code",
   "execution_count": null,
   "metadata": {},
   "outputs": [],
   "source": [
    "G = nx.from_numpy_matrix(adjacency_matrix)"
   ]
  },
  {
   "cell_type": "code",
   "execution_count": null,
   "metadata": {},
   "outputs": [],
   "source": [
    "degree_sequence = sorted([d for n, d in G.degree()], reverse=True)\n",
    "# print \"Degree sequence\", degree_sequence\n",
    "dmax = max(degree_sequence)\n",
    "\n",
    "plt.plot(degree_sequence, 'b-', marker='o')\n",
    "plt.title(\"Degree rank plot\")\n",
    "plt.ylabel(\"degree\")\n",
    "plt.xlabel(\"rank\")"
   ]
  },
  {
   "cell_type": "code",
   "execution_count": null,
   "metadata": {},
   "outputs": [],
   "source": [
    "nx.closeness_centrality(G).values()"
   ]
  },
  {
   "cell_type": "code",
   "execution_count": null,
   "metadata": {},
   "outputs": [],
   "source": [
    "def keep_row(lien):\n",
    "    if 'collaborated_with' in lien or 'inBand' in lien or  'bandmember' in lien or \"playedTogether\" in lien :\n",
    "        return True\n",
    "    else:\n",
    "        return False\n",
    "df[\"Keep\"] = df.Lien.apply(keep_row)\n",
    "df = df[df.Keep == True]\n",
    "df[\"Id\"] = df.Artiste1+df.Artiste2\n",
    "test = df[[\"Artiste1\", 'Artiste2', \"Id\"]].drop_duplicates(subset='Id')"
   ]
  }
 ],
 "metadata": {
  "kernelspec": {
   "display_name": "SAND",
   "language": "python",
   "name": "sand"
  },
  "language_info": {
   "codemirror_mode": {
    "name": "ipython",
    "version": 3
   },
   "file_extension": ".py",
   "mimetype": "text/x-python",
   "name": "python",
   "nbconvert_exporter": "python",
   "pygments_lexer": "ipython3",
   "version": "3.6.4"
  }
 },
 "nbformat": 4,
 "nbformat_minor": 2
}
